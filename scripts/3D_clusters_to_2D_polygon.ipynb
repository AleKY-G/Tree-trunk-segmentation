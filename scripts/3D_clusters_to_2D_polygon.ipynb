{
 "cells": [
  {
   "cell_type": "code",
   "execution_count": 1,
   "id": "e5cb937b-983f-4ec3-b7fc-e98b2a4af008",
   "metadata": {},
   "outputs": [],
   "source": [
    "import numpy as np\n",
    "import pylas\n",
    "from collections import Counter\n",
    "from scipy.spatial import ConvexHull, Delaunay\n",
    "from shapely.geometry import LineString, Polygon, MultiPolygon,mapping\n",
    "import fiona"
   ]
  },
  {
   "cell_type": "markdown",
   "id": "709f33f3-1182-445b-aa0a-5c5e63aa7b0a",
   "metadata": {
    "tags": []
   },
   "source": [
    "# Open and prepare the data"
   ]
  },
  {
   "cell_type": "code",
   "execution_count": null,
   "id": "545aeebc-094e-4879-89c5-a2719f82a824",
   "metadata": {},
   "outputs": [],
   "source": [
    "las_test = pylas.open('All_area_full.las')"
   ]
  },
  {
   "cell_type": "code",
   "execution_count": 2,
   "id": "3f0c7614-ad33-4438-8256-03b338cf719d",
   "metadata": {},
   "outputs": [
    {
     "name": "stdout",
     "output_type": "stream",
     "text": [
      "This las file has 896981 points\n",
      "This las file has 2375 individual trees\n"
     ]
    }
   ],
   "source": [
    "# Read in LAS file and extract tree coordinates\n",
    "# tree_coords should be a list of (x,y,z) tuples representing the tree positions\n",
    "data1 = las_test.read()\n",
    "array_test = data1.point_source_id\n",
    "print(\"This las file has\",len(data1.points),\"points\")\n",
    "counter_object3 = Counter(array_test)\n",
    "keys3 = counter_object3.keys()\n",
    "num_values3 = len(keys3)\n",
    "print(\"This las file has\",num_values3,\"individual trees\")\n",
    "tree_coord = {}\n",
    "for i in keys3:\n",
    "    tree=[]\n",
    "    tree = np.c_[data1.x[data1.point_source_id == i],data1.y[data1.point_source_id == i]]\n",
    "    tree_coord[i]=[]\n",
    "    tree_coord[i].append(tree)\n",
    "    tree=[]"
   ]
  },
  {
   "cell_type": "markdown",
   "id": "05b0d752-4eb2-4c4b-83c3-648ceb9eae25",
   "metadata": {
    "tags": []
   },
   "source": [
    "# Create convex hulls"
   ]
  },
  {
   "cell_type": "code",
   "execution_count": 3,
   "id": "880e762c-16c8-4239-90ec-01da8fa86410",
   "metadata": {},
   "outputs": [],
   "source": [
    "hulls = []\n",
    "for tree_id, coords in tree_coord.items():\n",
    "    if len(coords[0]) > 3:\n",
    "        hull = ConvexHull(coords[0])\n",
    "        hulls.append(hull)"
   ]
  },
  {
   "cell_type": "markdown",
   "id": "de2dd26a-4398-443a-924d-03586ca53b04",
   "metadata": {
    "tags": []
   },
   "source": [
    "# Save the 2D border of individual trees as shapefiles"
   ]
  },
  {
   "cell_type": "code",
   "execution_count": 4,
   "id": "cdd98c57-784b-4820-952d-0dea157e407e",
   "metadata": {},
   "outputs": [],
   "source": [
    "\n",
    "# Convert the ConvexHull objects to Polygon objects\n",
    "hulls_polygons = [Polygon(hull.points[hull.vertices]) for hull in hulls]\n",
    "\n",
    "# Set up the Shapefile schema\n",
    "schema = {\n",
    "    'geometry': 'LineString',\n",
    "    'properties': {'id': 'int', 'hull_id': 'int'},\n",
    "}\n",
    "i=0\n",
    "# Save the hull borders to a Shapefile\n",
    "with fiona.open('Shapefile_output.shp', 'w', 'ESRI Shapefile', schema) as c:\n",
    "    for g in hulls_polygons:\n",
    "        i=i+1\n",
    "        hull_border = LineString(g.exterior)\n",
    "        c.write({\n",
    "            'geometry': mapping(hull_border),\n",
    "            'properties': {'id': 1, 'hull_id': i},\n",
    "        })\n"
   ]
  }
 ],
 "metadata": {
  "kernelspec": {
   "display_name": "Python",
   "language": "python",
   "name": "python3"
  },
  "language_info": {
   "codemirror_mode": {
    "name": "ipython",
    "version": 3
   },
   "file_extension": ".py",
   "mimetype": "text/x-python",
   "name": "python",
   "nbconvert_exporter": "python",
   "pygments_lexer": "ipython3",
   "version": "3.8.10"
  }
 },
 "nbformat": 4,
 "nbformat_minor": 5
}
